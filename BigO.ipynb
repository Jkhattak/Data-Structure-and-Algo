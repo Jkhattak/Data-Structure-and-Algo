{
 "cells": [
  {
   "cell_type": "markdown",
   "metadata": {},
   "source": [
    "# Data structures and Algorithim"
   ]
  },
  {
   "cell_type": "markdown",
   "metadata": {},
   "source": [
    "### Big 0 Notation"
   ]
  },
  {
   "cell_type": "code",
   "execution_count": 3,
   "metadata": {},
   "outputs": [
    {
     "name": "stdout",
     "output_type": "stream",
     "text": [
      "15\n",
      "120\n"
     ]
    },
    {
     "data": {
      "text/plain": [
       "'\\nThe time complexity will be linear. The bigO will be O(n). If the array size doubles, the time will also double. Even though the problem has two loops,\\nthey are independent of each other, so in this case, we will add both of them.\\n'"
      ]
     },
     "execution_count": 3,
     "metadata": {},
     "output_type": "execute_result"
    }
   ],
   "source": [
    "#Example 1\n",
    "\n",
    "L = [1,2,3,4,5]\n",
    "\n",
    "sum = 0\n",
    "for i in L:\n",
    "    sum += i # 2 n \n",
    "print(sum)\n",
    "\n",
    "product = 1\n",
    "for i in L:\n",
    "    product = product * i #2n\n",
    "print(product)\n",
    "\n",
    "\"\"\"\n",
    "The time complexity will be linear. The bigO will be O(n). If the array size doubles, the time will also double. Even though the problem has two loops,\n",
    "they are independent of each other, so in this case, we will add both of them.\n",
    "\"\"\""
   ]
  },
  {
   "cell_type": "code",
   "execution_count": 6,
   "metadata": {},
   "outputs": [
    {
     "name": "stdout",
     "output_type": "stream",
     "text": [
      "1,1\n",
      "1,2\n",
      "1,3\n",
      "1,4\n",
      "1,5\n",
      "2,1\n",
      "2,2\n",
      "2,3\n",
      "2,4\n",
      "2,5\n",
      "3,1\n",
      "3,2\n",
      "3,3\n",
      "3,4\n",
      "3,5\n",
      "4,1\n",
      "4,2\n",
      "4,3\n",
      "4,4\n",
      "4,5\n",
      "5,1\n",
      "5,2\n",
      "5,3\n",
      "5,4\n",
      "5,5\n"
     ]
    },
    {
     "data": {
      "text/plain": [
       "'\\nThis is double nested loop so the time complexity will be O(n^2). This is because the first loop will be O(n) and the second loop will also be O(n).\\nSince both of the loops are dependent on each otther, we will multiply them together \\n'"
      ]
     },
     "execution_count": 6,
     "metadata": {},
     "output_type": "execute_result"
    }
   ],
   "source": [
    "#Example 2\n",
    "\n",
    "L = [1,2,3,4,5]\n",
    "\n",
    "for i in L:\n",
    "    for j in L:\n",
    "        print('{},{}'.format(i,j))\n",
    "\n",
    "'''\n",
    "This is double nested loop so the time complexity will be O(n^2). This is because the first loop will be O(n) and the second loop will also be O(n).\n",
    "Since both of the loops are dependent on each otther, we will multiply them together \n",
    "'''\n"
   ]
  },
  {
   "cell_type": "code",
   "execution_count": null,
   "metadata": {},
   "outputs": [],
   "source": []
  }
 ],
 "metadata": {
  "kernelspec": {
   "display_name": "Python 3.10.2 64-bit",
   "language": "python",
   "name": "python3"
  },
  "language_info": {
   "codemirror_mode": {
    "name": "ipython",
    "version": 3
   },
   "file_extension": ".py",
   "mimetype": "text/x-python",
   "name": "python",
   "nbconvert_exporter": "python",
   "pygments_lexer": "ipython3",
   "version": "3.10.2"
  },
  "orig_nbformat": 4,
  "vscode": {
   "interpreter": {
    "hash": "aee8b7b246df8f9039afb4144a1f6fd8d2ca17a180786b69acc140d282b71a49"
   }
  }
 },
 "nbformat": 4,
 "nbformat_minor": 2
}
